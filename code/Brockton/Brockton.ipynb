{
 "cells": [
  {
   "cell_type": "code",
   "execution_count": 1,
   "metadata": {},
   "outputs": [],
   "source": [
    "import pandas as pd\n",
    "import numpy as np\n",
    "import matplotlib.pyplot as plt"
   ]
  },
  {
   "cell_type": "code",
   "execution_count": 2,
   "metadata": {},
   "outputs": [
    {
     "data": {
      "text/html": [
       "<div>\n",
       "<style scoped>\n",
       "    .dataframe tbody tr th:only-of-type {\n",
       "        vertical-align: middle;\n",
       "    }\n",
       "\n",
       "    .dataframe tbody tr th {\n",
       "        vertical-align: top;\n",
       "    }\n",
       "\n",
       "    .dataframe thead th {\n",
       "        text-align: right;\n",
       "    }\n",
       "</style>\n",
       "<table border=\"1\" class=\"dataframe\">\n",
       "  <thead>\n",
       "    <tr style=\"text-align: right;\">\n",
       "      <th></th>\n",
       "      <th>FieldNum</th>\n",
       "      <th>GangRelatedYN</th>\n",
       "      <th>CreatedDate</th>\n",
       "      <th>CreatedTime</th>\n",
       "      <th>CreatedID</th>\n",
       "    </tr>\n",
       "  </thead>\n",
       "  <tbody>\n",
       "    <tr>\n",
       "      <th>0</th>\n",
       "      <td>16-3-FI</td>\n",
       "      <td>N</td>\n",
       "      <td>20160112</td>\n",
       "      <td>836</td>\n",
       "      <td>535</td>\n",
       "    </tr>\n",
       "    <tr>\n",
       "      <th>1</th>\n",
       "      <td>16-1-FI</td>\n",
       "      <td>N</td>\n",
       "      <td>20160109</td>\n",
       "      <td>924</td>\n",
       "      <td>483</td>\n",
       "    </tr>\n",
       "    <tr>\n",
       "      <th>2</th>\n",
       "      <td>16-2-FI</td>\n",
       "      <td>N</td>\n",
       "      <td>20160111</td>\n",
       "      <td>1541</td>\n",
       "      <td>548</td>\n",
       "    </tr>\n",
       "    <tr>\n",
       "      <th>3</th>\n",
       "      <td>16-4-FI</td>\n",
       "      <td>N</td>\n",
       "      <td>20160114</td>\n",
       "      <td>1703</td>\n",
       "      <td>535</td>\n",
       "    </tr>\n",
       "    <tr>\n",
       "      <th>4</th>\n",
       "      <td>16-5-FI</td>\n",
       "      <td>Y</td>\n",
       "      <td>20160118</td>\n",
       "      <td>2249</td>\n",
       "      <td>407</td>\n",
       "    </tr>\n",
       "  </tbody>\n",
       "</table>\n",
       "</div>"
      ],
      "text/plain": [
       "  FieldNum GangRelatedYN  CreatedDate  CreatedTime  CreatedID\n",
       "0  16-3-FI             N     20160112          836        535\n",
       "1  16-1-FI             N     20160109          924        483\n",
       "2  16-2-FI             N     20160111         1541        548\n",
       "3  16-4-FI             N     20160114         1703        535\n",
       "4  16-5-FI             Y     20160118         2249        407"
      ]
     },
     "execution_count": 2,
     "metadata": {},
     "output_type": "execute_result"
    }
   ],
   "source": [
    "FIOs = pd.read_csv(\"FIO#-CreatedID-GangRelated-Date-Time.csv\")\n",
    "FIOs.head()"
   ]
  },
  {
   "cell_type": "code",
   "execution_count": 3,
   "metadata": {},
   "outputs": [
    {
     "name": "stdout",
     "output_type": "stream",
     "text": [
      "<class 'pandas.core.frame.DataFrame'>\n",
      "RangeIndex: 1062 entries, 0 to 1061\n",
      "Data columns (total 5 columns):\n",
      " #   Column         Non-Null Count  Dtype \n",
      "---  ------         --------------  ----- \n",
      " 0   FieldNum       1062 non-null   object\n",
      " 1   GangRelatedYN  1010 non-null   object\n",
      " 2   CreatedDate    1062 non-null   int64 \n",
      " 3   CreatedTime    1062 non-null   int64 \n",
      " 4   CreatedID      1062 non-null   int64 \n",
      "dtypes: int64(3), object(2)\n",
      "memory usage: 41.6+ KB\n"
     ]
    }
   ],
   "source": [
    "FIOs.info()"
   ]
  },
  {
   "cell_type": "code",
   "execution_count": 9,
   "metadata": {},
   "outputs": [
    {
     "data": {
      "text/plain": [
       "count        1062\n",
       "unique       1062\n",
       "top       16-3-FI\n",
       "freq            1\n",
       "Name: FieldNum, dtype: object"
      ]
     },
     "execution_count": 9,
     "metadata": {},
     "output_type": "execute_result"
    }
   ],
   "source": [
    "FIOs['FieldNum'].describe()"
   ]
  },
  {
   "cell_type": "code",
   "execution_count": 5,
   "metadata": {
    "scrolled": true
   },
   "outputs": [
    {
     "name": "stdout",
     "output_type": "stream",
     "text": [
      "<class 'pandas.core.frame.DataFrame'>\n",
      "RangeIndex: 2510 entries, 0 to 2509\n",
      "Data columns (total 7 columns):\n",
      " #   Column        Non-Null Count  Dtype  \n",
      "---  ------        --------------  -----  \n",
      " 0   IncidentNum   2510 non-null   object \n",
      " 1   Age           2507 non-null   float64\n",
      " 2   Sex           2510 non-null   object \n",
      " 3   Race          2510 non-null   object \n",
      " 4   Ethnicity     2510 non-null   object \n",
      " 5   CreatedID     2510 non-null   int64  \n",
      " 6   ModifiedDate  2510 non-null   int64  \n",
      "dtypes: float64(1), int64(2), object(4)\n",
      "memory usage: 137.4+ KB\n"
     ]
    }
   ],
   "source": [
    "GenderRace = pd.read_csv(\"Gender-Race Ethnicity.csv\")\n",
    "GenderRace.info()"
   ]
  },
  {
   "cell_type": "code",
   "execution_count": 6,
   "metadata": {},
   "outputs": [
    {
     "data": {
      "text/plain": [
       "B    1845\n",
       "W     611\n",
       "U      46\n",
       "A       7\n",
       "P       1\n",
       "Name: Race, dtype: int64"
      ]
     },
     "execution_count": 6,
     "metadata": {},
     "output_type": "execute_result"
    }
   ],
   "source": [
    "GenderRace['Race'].value_counts()"
   ]
  },
  {
   "cell_type": "code",
   "execution_count": 8,
   "metadata": {},
   "outputs": [
    {
     "data": {
      "text/plain": [
       "count          2510\n",
       "unique          992\n",
       "top       17-155-FI\n",
       "freq             17\n",
       "Name: IncidentNum, dtype: object"
      ]
     },
     "execution_count": 8,
     "metadata": {},
     "output_type": "execute_result"
    }
   ],
   "source": [
    "GenderRace['IncidentNum'].describe()"
   ]
  },
  {
   "cell_type": "code",
   "execution_count": 13,
   "metadata": {},
   "outputs": [
    {
     "data": {
      "text/html": [
       "<div>\n",
       "<style scoped>\n",
       "    .dataframe tbody tr th:only-of-type {\n",
       "        vertical-align: middle;\n",
       "    }\n",
       "\n",
       "    .dataframe tbody tr th {\n",
       "        vertical-align: top;\n",
       "    }\n",
       "\n",
       "    .dataframe thead th {\n",
       "        text-align: right;\n",
       "    }\n",
       "</style>\n",
       "<table border=\"1\" class=\"dataframe\">\n",
       "  <thead>\n",
       "    <tr style=\"text-align: right;\">\n",
       "      <th></th>\n",
       "      <th>IncidentNum</th>\n",
       "      <th>Age</th>\n",
       "      <th>Sex</th>\n",
       "      <th>Race</th>\n",
       "      <th>Ethnicity</th>\n",
       "      <th>CreatedID</th>\n",
       "      <th>ModifiedDate</th>\n",
       "      <th>Race-Ethnicity</th>\n",
       "    </tr>\n",
       "  </thead>\n",
       "  <tbody>\n",
       "    <tr>\n",
       "      <th>0</th>\n",
       "      <td>16-3-FI</td>\n",
       "      <td>25.0</td>\n",
       "      <td>M</td>\n",
       "      <td>B</td>\n",
       "      <td>N</td>\n",
       "      <td>535</td>\n",
       "      <td>20180604</td>\n",
       "      <td>BN</td>\n",
       "    </tr>\n",
       "    <tr>\n",
       "      <th>3</th>\n",
       "      <td>16-1-FI</td>\n",
       "      <td>66.0</td>\n",
       "      <td>M</td>\n",
       "      <td>B</td>\n",
       "      <td>N</td>\n",
       "      <td>560</td>\n",
       "      <td>20160109</td>\n",
       "      <td>BN</td>\n",
       "    </tr>\n",
       "    <tr>\n",
       "      <th>4</th>\n",
       "      <td>16-2-FI</td>\n",
       "      <td>26.0</td>\n",
       "      <td>F</td>\n",
       "      <td>W</td>\n",
       "      <td>N</td>\n",
       "      <td>548</td>\n",
       "      <td>20160115</td>\n",
       "      <td>WN</td>\n",
       "    </tr>\n",
       "    <tr>\n",
       "      <th>10</th>\n",
       "      <td>16-4-FI</td>\n",
       "      <td>19.0</td>\n",
       "      <td>F</td>\n",
       "      <td>B</td>\n",
       "      <td>H</td>\n",
       "      <td>535</td>\n",
       "      <td>20210522</td>\n",
       "      <td>BH</td>\n",
       "    </tr>\n",
       "    <tr>\n",
       "      <th>14</th>\n",
       "      <td>16-5-FI</td>\n",
       "      <td>28.0</td>\n",
       "      <td>M</td>\n",
       "      <td>B</td>\n",
       "      <td>N</td>\n",
       "      <td>407</td>\n",
       "      <td>20160118</td>\n",
       "      <td>BN</td>\n",
       "    </tr>\n",
       "  </tbody>\n",
       "</table>\n",
       "</div>"
      ],
      "text/plain": [
       "   IncidentNum   Age Sex Race Ethnicity  CreatedID  ModifiedDate  \\\n",
       "0      16-3-FI  25.0   M    B         N        535      20180604   \n",
       "3      16-1-FI  66.0   M    B         N        560      20160109   \n",
       "4      16-2-FI  26.0   F    W         N        548      20160115   \n",
       "10     16-4-FI  19.0   F    B         H        535      20210522   \n",
       "14     16-5-FI  28.0   M    B         N        407      20160118   \n",
       "\n",
       "   Race-Ethnicity  \n",
       "0              BN  \n",
       "3              BN  \n",
       "4              WN  \n",
       "10             BH  \n",
       "14             BN  "
      ]
     },
     "execution_count": 13,
     "metadata": {},
     "output_type": "execute_result"
    }
   ],
   "source": [
    "GenderRace.drop_duplicates(subset='IncidentNum', inplace=True, keep='first')\n",
    "GenderRace.head()"
   ]
  },
  {
   "cell_type": "code",
   "execution_count": 14,
   "metadata": {},
   "outputs": [],
   "source": [
    "gender_fios = FIOs.merge(right=GenderRace, left_on=\"FieldNum\", right_on=\"IncidentNum\")"
   ]
  },
  {
   "cell_type": "code",
   "execution_count": 15,
   "metadata": {},
   "outputs": [
    {
     "data": {
      "text/html": [
       "<div>\n",
       "<style scoped>\n",
       "    .dataframe tbody tr th:only-of-type {\n",
       "        vertical-align: middle;\n",
       "    }\n",
       "\n",
       "    .dataframe tbody tr th {\n",
       "        vertical-align: top;\n",
       "    }\n",
       "\n",
       "    .dataframe thead th {\n",
       "        text-align: right;\n",
       "    }\n",
       "</style>\n",
       "<table border=\"1\" class=\"dataframe\">\n",
       "  <thead>\n",
       "    <tr style=\"text-align: right;\">\n",
       "      <th></th>\n",
       "      <th>FieldNum</th>\n",
       "      <th>GangRelatedYN</th>\n",
       "      <th>CreatedDate</th>\n",
       "      <th>CreatedTime</th>\n",
       "      <th>CreatedID_x</th>\n",
       "      <th>IncidentNum</th>\n",
       "      <th>Age</th>\n",
       "      <th>Sex</th>\n",
       "      <th>Race</th>\n",
       "      <th>Ethnicity</th>\n",
       "      <th>CreatedID_y</th>\n",
       "      <th>ModifiedDate</th>\n",
       "      <th>Race-Ethnicity</th>\n",
       "    </tr>\n",
       "  </thead>\n",
       "  <tbody>\n",
       "    <tr>\n",
       "      <th>0</th>\n",
       "      <td>16-3-FI</td>\n",
       "      <td>N</td>\n",
       "      <td>20160112</td>\n",
       "      <td>836</td>\n",
       "      <td>535</td>\n",
       "      <td>16-3-FI</td>\n",
       "      <td>25.0</td>\n",
       "      <td>M</td>\n",
       "      <td>B</td>\n",
       "      <td>N</td>\n",
       "      <td>535</td>\n",
       "      <td>20180604</td>\n",
       "      <td>BN</td>\n",
       "    </tr>\n",
       "    <tr>\n",
       "      <th>1</th>\n",
       "      <td>16-1-FI</td>\n",
       "      <td>N</td>\n",
       "      <td>20160109</td>\n",
       "      <td>924</td>\n",
       "      <td>483</td>\n",
       "      <td>16-1-FI</td>\n",
       "      <td>66.0</td>\n",
       "      <td>M</td>\n",
       "      <td>B</td>\n",
       "      <td>N</td>\n",
       "      <td>560</td>\n",
       "      <td>20160109</td>\n",
       "      <td>BN</td>\n",
       "    </tr>\n",
       "    <tr>\n",
       "      <th>2</th>\n",
       "      <td>16-2-FI</td>\n",
       "      <td>N</td>\n",
       "      <td>20160111</td>\n",
       "      <td>1541</td>\n",
       "      <td>548</td>\n",
       "      <td>16-2-FI</td>\n",
       "      <td>26.0</td>\n",
       "      <td>F</td>\n",
       "      <td>W</td>\n",
       "      <td>N</td>\n",
       "      <td>548</td>\n",
       "      <td>20160115</td>\n",
       "      <td>WN</td>\n",
       "    </tr>\n",
       "    <tr>\n",
       "      <th>3</th>\n",
       "      <td>16-4-FI</td>\n",
       "      <td>N</td>\n",
       "      <td>20160114</td>\n",
       "      <td>1703</td>\n",
       "      <td>535</td>\n",
       "      <td>16-4-FI</td>\n",
       "      <td>19.0</td>\n",
       "      <td>F</td>\n",
       "      <td>B</td>\n",
       "      <td>H</td>\n",
       "      <td>535</td>\n",
       "      <td>20210522</td>\n",
       "      <td>BH</td>\n",
       "    </tr>\n",
       "    <tr>\n",
       "      <th>4</th>\n",
       "      <td>16-5-FI</td>\n",
       "      <td>Y</td>\n",
       "      <td>20160118</td>\n",
       "      <td>2249</td>\n",
       "      <td>407</td>\n",
       "      <td>16-5-FI</td>\n",
       "      <td>28.0</td>\n",
       "      <td>M</td>\n",
       "      <td>B</td>\n",
       "      <td>N</td>\n",
       "      <td>407</td>\n",
       "      <td>20160118</td>\n",
       "      <td>BN</td>\n",
       "    </tr>\n",
       "  </tbody>\n",
       "</table>\n",
       "</div>"
      ],
      "text/plain": [
       "  FieldNum GangRelatedYN  CreatedDate  CreatedTime  CreatedID_x IncidentNum  \\\n",
       "0  16-3-FI             N     20160112          836          535     16-3-FI   \n",
       "1  16-1-FI             N     20160109          924          483     16-1-FI   \n",
       "2  16-2-FI             N     20160111         1541          548     16-2-FI   \n",
       "3  16-4-FI             N     20160114         1703          535     16-4-FI   \n",
       "4  16-5-FI             Y     20160118         2249          407     16-5-FI   \n",
       "\n",
       "    Age Sex Race Ethnicity  CreatedID_y  ModifiedDate Race-Ethnicity  \n",
       "0  25.0   M    B         N          535      20180604             BN  \n",
       "1  66.0   M    B         N          560      20160109             BN  \n",
       "2  26.0   F    W         N          548      20160115             WN  \n",
       "3  19.0   F    B         H          535      20210522             BH  \n",
       "4  28.0   M    B         N          407      20160118             BN  "
      ]
     },
     "execution_count": 15,
     "metadata": {},
     "output_type": "execute_result"
    }
   ],
   "source": [
    "gender_fios.head()"
   ]
  },
  {
   "cell_type": "code",
   "execution_count": 16,
   "metadata": {
    "scrolled": true
   },
   "outputs": [
    {
     "data": {
      "text/plain": [
       "N    844\n",
       "H     92\n",
       "U     41\n",
       "Name: Ethnicity, dtype: int64"
      ]
     },
     "execution_count": 16,
     "metadata": {},
     "output_type": "execute_result"
    }
   ],
   "source": [
    "gender_fios['Ethnicity'].value_counts()"
   ]
  },
  {
   "cell_type": "code",
   "execution_count": 17,
   "metadata": {},
   "outputs": [],
   "source": [
    "gender_fios['Race-Ethnicity'] = gender_fios['Race'] + gender_fios['Ethnicity']"
   ]
  },
  {
   "cell_type": "code",
   "execution_count": 19,
   "metadata": {},
   "outputs": [
    {
     "data": {
      "text/plain": [
       "BN    635\n",
       "WN    207\n",
       "WH     46\n",
       "BH     41\n",
       "BU     31\n",
       "UU      7\n",
       "UH      4\n",
       "WU      3\n",
       "AN      1\n",
       "UN      1\n",
       "PH      1\n",
       "Name: Race-Ethnicity, dtype: int64"
      ]
     },
     "execution_count": 19,
     "metadata": {},
     "output_type": "execute_result"
    }
   ],
   "source": [
    "gender_fios['Race-Ethnicity'].value_counts()"
   ]
  },
  {
   "cell_type": "code",
   "execution_count": 18,
   "metadata": {},
   "outputs": [
    {
     "data": {
      "text/plain": [
       "<AxesSubplot: title={'center': 'Race-Ethnicity Distribution'}>"
      ]
     },
     "execution_count": 18,
     "metadata": {},
     "output_type": "execute_result"
    },
    {
     "data": {
      "image/png": "[encoded data removed]",
      "text/plain": [
       "<Figure size 500x500 with 1 Axes>"
      ]
     },
     "metadata": {},
     "output_type": "display_data"
    }
   ],
   "source": [
    "gender_fios['Race-Ethnicity'].value_counts().plot.bar(figsize=(5,5),rot=0,title='Race-Ethnicity Distribution')"
   ]
  },
  {
   "cell_type": "code",
   "execution_count": 5,
   "metadata": {
    "scrolled": false
   },
   "outputs": [
    {
     "data": {
      "text/html": [
       "<div>\n",
       "<style scoped>\n",
       "    .dataframe tbody tr th:only-of-type {\n",
       "        vertical-align: middle;\n",
       "    }\n",
       "\n",
       "    .dataframe tbody tr th {\n",
       "        vertical-align: top;\n",
       "    }\n",
       "\n",
       "    .dataframe thead th {\n",
       "        text-align: right;\n",
       "    }\n",
       "</style>\n",
       "<table border=\"1\" class=\"dataframe\">\n",
       "  <thead>\n",
       "    <tr style=\"text-align: right;\">\n",
       "      <th></th>\n",
       "      <th>Casenum</th>\n",
       "      <th>Desc</th>\n",
       "      <th>StreetNum</th>\n",
       "      <th>StreetName</th>\n",
       "      <th>StreetSuf</th>\n",
       "      <th>Jur</th>\n",
       "      <th>City</th>\n",
       "      <th>State</th>\n",
       "      <th>CreatedById</th>\n",
       "    </tr>\n",
       "  </thead>\n",
       "  <tbody>\n",
       "    <tr>\n",
       "      <th>0</th>\n",
       "      <td>16-3-FI</td>\n",
       "      <td>Suspicious Person</td>\n",
       "      <td>147.0</td>\n",
       "      <td>FLORENCE</td>\n",
       "      <td>ST</td>\n",
       "      <td>BRO</td>\n",
       "      <td>BROCKTON</td>\n",
       "      <td>MA</td>\n",
       "      <td>535</td>\n",
       "    </tr>\n",
       "    <tr>\n",
       "      <th>1</th>\n",
       "      <td>16-1-FI</td>\n",
       "      <td>Police Information</td>\n",
       "      <td>692.0</td>\n",
       "      <td>N MAIN</td>\n",
       "      <td>ST</td>\n",
       "      <td>BRO</td>\n",
       "      <td>BROCKTON</td>\n",
       "      <td>MA</td>\n",
       "      <td>560</td>\n",
       "    </tr>\n",
       "    <tr>\n",
       "      <th>2</th>\n",
       "      <td>16-2-FI</td>\n",
       "      <td>Police Information</td>\n",
       "      <td>385.0</td>\n",
       "      <td>WESTGATE</td>\n",
       "      <td>DR</td>\n",
       "      <td>BRO</td>\n",
       "      <td>BROCKTON</td>\n",
       "      <td>MA</td>\n",
       "      <td>548</td>\n",
       "    </tr>\n",
       "    <tr>\n",
       "      <th>3</th>\n",
       "      <td>16-4-FI</td>\n",
       "      <td>Suspicious Activity</td>\n",
       "      <td>1300.0</td>\n",
       "      <td>MAIN</td>\n",
       "      <td>ST</td>\n",
       "      <td>BRO</td>\n",
       "      <td>BROCKTON</td>\n",
       "      <td>MA</td>\n",
       "      <td>535</td>\n",
       "    </tr>\n",
       "    <tr>\n",
       "      <th>4</th>\n",
       "      <td>16-5-FI</td>\n",
       "      <td>UNLAWFUL POSSESION FIREARM</td>\n",
       "      <td>73.0</td>\n",
       "      <td>N WARREN</td>\n",
       "      <td>AVE</td>\n",
       "      <td>BRO</td>\n",
       "      <td>BROCKTON</td>\n",
       "      <td>MA</td>\n",
       "      <td>407</td>\n",
       "    </tr>\n",
       "  </tbody>\n",
       "</table>\n",
       "</div>"
      ],
      "text/plain": [
       "   Casenum                        Desc  StreetNum StreetName StreetSuf  Jur  \\\n",
       "0  16-3-FI           Suspicious Person      147.0   FLORENCE        ST  BRO   \n",
       "1  16-1-FI          Police Information      692.0     N MAIN        ST  BRO   \n",
       "2  16-2-FI          Police Information      385.0   WESTGATE        DR  BRO   \n",
       "3  16-4-FI         Suspicious Activity     1300.0       MAIN        ST  BRO   \n",
       "4  16-5-FI  UNLAWFUL POSSESION FIREARM       73.0   N WARREN       AVE  BRO   \n",
       "\n",
       "       City State  CreatedById  \n",
       "0  BROCKTON    MA          535  \n",
       "1  BROCKTON    MA          560  \n",
       "2  BROCKTON    MA          548  \n",
       "3  BROCKTON    MA          535  \n",
       "4  BROCKTON    MA          407  "
      ]
     },
     "execution_count": 5,
     "metadata": {},
     "output_type": "execute_result"
    }
   ],
   "source": [
    "ReasonLocation = pd.read_csv(\"Reason-Location-CreatorID.csv\")\n",
    "ReasonLocation.head()"
   ]
  },
  {
   "cell_type": "code",
   "execution_count": 6,
   "metadata": {},
   "outputs": [
    {
     "data": {
      "text/plain": [
       "Police Information                                         230\n",
       "Suspicious Vehicle                                         175\n",
       "Suspicious Activity                                        133\n",
       "Suspicious Person                                           86\n",
       "Other                                                       50\n",
       "                                                          ... \n",
       "Suspicious Activity - CRUISING YASSO AT 0300HRS              1\n",
       "VIOLENT OFFENDER FROM FLORIDA                                1\n",
       "CARRYING LARGE KNIFE                                         1\n",
       "ATTACHED PLATES OUTSIDE MICHAEL VEIGA'S HOUSE                1\n",
       "Police Information (SHOTS FIRED THE BROCKTON MINI MART)      1\n",
       "Name: Desc, Length: 165, dtype: int64"
      ]
     },
     "execution_count": 6,
     "metadata": {},
     "output_type": "execute_result"
    }
   ],
   "source": [
    "ReasonLocation['Desc'].value_counts()"
   ]
  },
  {
   "cell_type": "code",
   "execution_count": 6,
   "metadata": {},
   "outputs": [],
   "source": [
    "from datetime import datetime\n",
    "\n",
    "d = datetime.strptime(\"20161121\", \"%Y%m%d\")\n",
    "d.strftime('%b')\n",
    "\n",
    "FIOs['Year'] = FIOs['CreatedDate'].apply(lambda x: datetime.strptime(str(x), \"%Y%m%d\").strftime('%Y'))\n",
    "FIOs['Month'] = FIOs['CreatedDate'].apply(lambda x: datetime.strptime(str(x), \"%Y%m%d\").strftime('%b'))\n",
    "FIOs['Day'] = FIOs['CreatedDate'].apply(lambda x: datetime.strptime(str(x), \"%Y%m%d\").strftime('%d'))\n"
   ]
  },
  {
   "cell_type": "code",
   "execution_count": 7,
   "metadata": {},
   "outputs": [
    {
     "data": {
      "text/html": [
       "<div>\n",
       "<style scoped>\n",
       "    .dataframe tbody tr th:only-of-type {\n",
       "        vertical-align: middle;\n",
       "    }\n",
       "\n",
       "    .dataframe tbody tr th {\n",
       "        vertical-align: top;\n",
       "    }\n",
       "\n",
       "    .dataframe thead th {\n",
       "        text-align: right;\n",
       "    }\n",
       "</style>\n",
       "<table border=\"1\" class=\"dataframe\">\n",
       "  <thead>\n",
       "    <tr style=\"text-align: right;\">\n",
       "      <th></th>\n",
       "      <th>FieldNum</th>\n",
       "      <th>GangRelatedYN</th>\n",
       "      <th>CreatedDate</th>\n",
       "      <th>CreatedTime</th>\n",
       "      <th>CreatedID</th>\n",
       "      <th>Year</th>\n",
       "      <th>Month</th>\n",
       "      <th>Day</th>\n",
       "    </tr>\n",
       "  </thead>\n",
       "  <tbody>\n",
       "    <tr>\n",
       "      <th>0</th>\n",
       "      <td>16-3-FI</td>\n",
       "      <td>N</td>\n",
       "      <td>20160112</td>\n",
       "      <td>836</td>\n",
       "      <td>535</td>\n",
       "      <td>2016</td>\n",
       "      <td>Jan</td>\n",
       "      <td>12</td>\n",
       "    </tr>\n",
       "    <tr>\n",
       "      <th>1</th>\n",
       "      <td>16-1-FI</td>\n",
       "      <td>N</td>\n",
       "      <td>20160109</td>\n",
       "      <td>924</td>\n",
       "      <td>483</td>\n",
       "      <td>2016</td>\n",
       "      <td>Jan</td>\n",
       "      <td>09</td>\n",
       "    </tr>\n",
       "    <tr>\n",
       "      <th>2</th>\n",
       "      <td>16-2-FI</td>\n",
       "      <td>N</td>\n",
       "      <td>20160111</td>\n",
       "      <td>1541</td>\n",
       "      <td>548</td>\n",
       "      <td>2016</td>\n",
       "      <td>Jan</td>\n",
       "      <td>11</td>\n",
       "    </tr>\n",
       "    <tr>\n",
       "      <th>3</th>\n",
       "      <td>16-4-FI</td>\n",
       "      <td>N</td>\n",
       "      <td>20160114</td>\n",
       "      <td>1703</td>\n",
       "      <td>535</td>\n",
       "      <td>2016</td>\n",
       "      <td>Jan</td>\n",
       "      <td>14</td>\n",
       "    </tr>\n",
       "    <tr>\n",
       "      <th>4</th>\n",
       "      <td>16-5-FI</td>\n",
       "      <td>Y</td>\n",
       "      <td>20160118</td>\n",
       "      <td>2249</td>\n",
       "      <td>407</td>\n",
       "      <td>2016</td>\n",
       "      <td>Jan</td>\n",
       "      <td>18</td>\n",
       "    </tr>\n",
       "  </tbody>\n",
       "</table>\n",
       "</div>"
      ],
      "text/plain": [
       "  FieldNum GangRelatedYN  CreatedDate  CreatedTime  CreatedID  Year Month Day\n",
       "0  16-3-FI             N     20160112          836        535  2016   Jan  12\n",
       "1  16-1-FI             N     20160109          924        483  2016   Jan  09\n",
       "2  16-2-FI             N     20160111         1541        548  2016   Jan  11\n",
       "3  16-4-FI             N     20160114         1703        535  2016   Jan  14\n",
       "4  16-5-FI             Y     20160118         2249        407  2016   Jan  18"
      ]
     },
     "execution_count": 7,
     "metadata": {},
     "output_type": "execute_result"
    }
   ],
   "source": [
    "FIOs.head()"
   ]
  },
  {
   "cell_type": "code",
   "execution_count": 8,
   "metadata": {},
   "outputs": [
    {
     "name": "stdout",
     "output_type": "stream",
     "text": [
      "['2016', '2017', '2018', '2019', '2020', '2021']\n"
     ]
    },
    {
     "data": {
      "image/png": "[encoded data removed]",
      "text/plain": [
       "<Figure size 432x288 with 1 Axes>"
      ]
     },
     "metadata": {
      "needs_background": "light"
     },
     "output_type": "display_data"
    }
   ],
   "source": [
    "year_counts = FIOs['Year'].value_counts()\n",
    "\n",
    "years_sorted = sorted(year_counts.keys())\n",
    "print(years_sorted)\n",
    "\n",
    "plt.figure()\n",
    "plt.plot(years_sorted, [year_counts[n] for n in years_sorted])\n",
    "plt.title('Trend of FIOs from 2016 to 2021')\n",
    "plt.show()"
   ]
  },
  {
   "cell_type": "code",
   "execution_count": 9,
   "metadata": {},
   "outputs": [
    {
     "data": {
      "image/png": "[encoded data removed]",
      "text/plain": [
       "<Figure size 432x288 with 1 Axes>"
      ]
     },
     "metadata": {
      "needs_background": "light"
     },
     "output_type": "display_data"
    }
   ],
   "source": [
    "plt.figure()\n",
    "GenderRace[GenderRace['Age'] <= 18.0][['Age','Sex']].value_counts().nlargest(10).plot.bar()\n",
    "plt.title('Top 10 most frequent ages')\n",
    "plt.xlabel('Age')\n",
    "plt.ylabel('Frequency')\n",
    "plt.show()"
   ]
  },
  {
   "cell_type": "code",
   "execution_count": 31,
   "metadata": {},
   "outputs": [
    {
     "data": {
      "text/plain": [
       "<AxesSubplot:title={'center':'Distribution of juveniles by gender'}, xlabel='Age'>"
      ]
     },
     "execution_count": 31,
     "metadata": {},
     "output_type": "execute_result"
    },
    {
     "data": {
      "image/png": "[encoded data removed]",
      "text/plain": [
       "<Figure size 640x480 with 1 Axes>"
      ]
     },
     "metadata": {},
     "output_type": "display_data"
    }
   ],
   "source": [
    "juveniles_genders = GenderRace[GenderRace['Age'] <= 17.0].groupby(by=['Age','Sex']).size()\n",
    "juveniles_genders.unstack().plot(kind='bar',title=\"Distribution of juveniles by gender\",color=['pink','#1f77b4','green'])"
   ]
  },
  {
   "cell_type": "code",
   "execution_count": 11,
   "metadata": {},
   "outputs": [
    {
     "data": {
      "image/png": "[encoded data removed]",
      "text/plain": [
       "<Figure size 720x720 with 1 Axes>"
      ]
     },
     "metadata": {},
     "output_type": "display_data"
    }
   ],
   "source": [
    "plt.figure(figsize=(10,10))\n",
    "GenderRace['Race'].value_counts().nlargest(3).plot.pie(autopct='%.1f%%')\n",
    "plt.title(\"Percentage of FIOs involving a certain race\")\n",
    "plt.show()\n"
   ]
  },
  {
   "cell_type": "code",
   "execution_count": null,
   "metadata": {},
   "outputs": [],
   "source": []
  }
 ],
 "metadata": {
  "kernelspec": {
   "display_name": "Python 3.9.12 ('base')",
   "language": "python",
   "name": "python3"
  },
  "language_info": {
   "codemirror_mode": {
    "name": "ipython",
    "version": 3
   },
   "file_extension": ".py",
   "mimetype": "text/x-python",
   "name": "python",
   "nbconvert_exporter": "python",
   "pygments_lexer": "ipython3",
   "version": "3.9.12"
  },
  "vscode": {
   "interpreter": {
    "hash": "24a831a009035fcc4b5bc1731ec2f041984e8b2b8b95e0e3a1476be848366ca6"
   }
  }
 },
 "nbformat": 4,
 "nbformat_minor": 2
}
